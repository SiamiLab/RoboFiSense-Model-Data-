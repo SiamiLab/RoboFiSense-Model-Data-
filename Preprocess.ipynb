{
 "cells": [
  {
   "cell_type": "code",
   "execution_count": 1,
   "metadata": {
    "id": "UuSba3jIMD0e"
   },
   "outputs": [
    {
     "name": "stderr",
     "output_type": "stream",
     "text": [
      "/shared/centos7/anaconda3/2022.05/lib/python3.9/site-packages/scipy/__init__.py:146: UserWarning: A NumPy version >=1.16.5 and <1.23.0 is required for this version of SciPy (detected version 1.23.5\n",
      "  warnings.warn(f\"A NumPy version >={np_minversion} and <{np_maxversion}\"\n"
     ]
    }
   ],
   "source": [
    "import numpy as np\n",
    "import pandas as pd\n",
    "import csv\n",
    "import pickle\n",
    "import math\n",
    "import cmath\n",
    "import matplotlib.pyplot as plt\n",
    "import seaborn as sns\n",
    "import itertools\n",
    "from random import randint\n",
    "from sklearn.metrics import classification_report\n",
    "from sklearn.metrics import confusion_matrix\n",
    "from sklearn import preprocessing\n",
    "from sklearn.utils import shuffle\n",
    "from sklearn.model_selection import train_test_split\n",
    "import scipy as sp\n",
    "from os.path import dirname, join as pjoin\n",
    "import scipy.io as sio\n",
    "from matplotlib import mlab\n",
    "from tqdm import tqdm\n",
    "import time\n",
    "import pathlib\n",
    "import csv\n",
    "import os\n",
    "import warnings\n",
    "warnings.filterwarnings(\"ignore\")\n",
    "import glob"
   ]
  },
  {
   "cell_type": "code",
   "execution_count": 3,
   "metadata": {
    "colab": {
     "base_uri": "https://localhost:8080/"
    },
    "id": "jYxXOQKQNPyn",
    "outputId": "a607fc50-7af8-4a82-cd05-1673ee9ef9dc"
   },
   "outputs": [
    {
     "name": "stdout",
     "output_type": "stream",
     "text": [
      "/home/zandi.r/Data\n"
     ]
    }
   ],
   "source": [
    "print(os.getcwd())\n",
    "directory='/home/zandi.r/Data/8 Class/'"
   ]
  },
  {
   "cell_type": "code",
   "execution_count": 5,
   "metadata": {},
   "outputs": [],
   "source": [
    "def get_CSIs(directory, train_speeds, test_speed):\n",
    "    CSIs = []\n",
    "    Labels = []\n",
    "    CSIs_test = []\n",
    "    Labels_test = []\n",
    "\n",
    "    for labels in os.listdir(directory):  # Main Directory where each class label is present as a folder name.\n",
    "        label_path = os.path.join(directory, labels)\n",
    "        if os.path.isdir(label_path):\n",
    "            if labels == 'Arc':  # Folder contains ARCXZ CSIs get the '0' class label.\n",
    "                label = 0\n",
    "            elif labels == 'Elbow':\n",
    "                label = 1\n",
    "            elif labels == 'Rectangle':\n",
    "                label = 2\n",
    "            elif labels == 'Silence':\n",
    "                label = 3  \n",
    "            elif labels == 'SLFW':\n",
    "                label = 4\n",
    "            elif labels == 'SLRL':\n",
    "                label = 5\n",
    "            elif labels == 'SLUD':\n",
    "                label = 6\n",
    "            elif labels == 'Triangle':\n",
    "                label = 7\n",
    "\n",
    "            # Get a list of speeds in the label directory\n",
    "            speed_folders = os.listdir(label_path)\n",
    "            for speed_folder in speed_folders:\n",
    "                if speed_folder in train_speeds:\n",
    "                    data_type = 'train'\n",
    "                elif speed_folder == test_speed:\n",
    "                    data_type = 'test'\n",
    "                else:\n",
    "                    continue\n",
    "\n",
    "                speed_path = os.path.join(label_path, speed_folder)\n",
    "                for csi_file in os.listdir(speed_path):  # Extracting the file name of the csi from Speed folder\n",
    "                    if csi_file == '.DS_Store':\n",
    "                        continue  # Skip processing this file\n",
    "                    def read_file(filename):\n",
    "                        with open(filename, 'rb') as FID:\n",
    "                            mp = pickle.Unpickler(FID)\n",
    "                            data = mp.load()\n",
    "                        return data\n",
    "\n",
    "                    csi = read_file(os.path.join(speed_path, csi_file))  # Reading the csi\n",
    "                    ar1 = np.asmatrix(np.abs(csi[0]['complex_csi']))\n",
    "                    arr1 = np.delete(ar1, [0, 1, 2, 3, 4, 115, 116, 117, 118, 119, 120, 122, 123, 124, 125, 126, 127, 128, 129, 130, 131, 253, 254, 255], 1)\n",
    "                    arr1 = np.pad(arr1, ((0, 0), (64, 64)), mode='constant')\n",
    "\n",
    "                    ar2 = np.asmatrix(np.abs(csi[1]['complex_csi']))\n",
    "                    arr2 = np.delete(ar2, [0, 1, 2, 3, 4, 115, 116, 117, 118, 119, 120, 122, 123, 124, 125, 126, 127, 128, 129, 130, 131, 253, 254, 255], 1)\n",
    "                    arr2 = np.pad(arr2, ((0, 0), (64, 64)), mode='constant')\n",
    "\n",
    "                    arr = np.concatenate((arr1, arr2), axis=1)\n",
    "\n",
    "                    # Append to the dataset based on data_type\n",
    "                    if data_type == 'train':\n",
    "                        # Append to training data\n",
    "                        CSIs.append(arr)\n",
    "                        Labels.append(label)\n",
    "                    elif data_type == 'test':\n",
    "                        # Append to testing data\n",
    "                        CSIs_test.append(arr)\n",
    "                        Labels_test.append(label)\n",
    "\n",
    "    return shuffle(CSIs, Labels, random_state=817328462), shuffle(CSIs_test, Labels_test, random_state=817328462)\n",
    "\n",
    "# def get_classlabel(class_code):\n",
    "#     labels = {0: 'ARC', 1: 'DIAG_XY', 2: 'Elbow', 3: 'Rectangle', 4: 'Silence', 5: 'SLFW', 6: 'SLRL', 7: 'SLUD'}\n",
    "#     return labels[class_code]"
   ]
  },
  {
   "cell_type": "code",
   "execution_count": 6,
   "metadata": {},
   "outputs": [],
   "source": [
    "# Define train and test speeds\n",
    "train_speeds = ['V1','V3']  # Two speeds for training\n",
    "test_speed = 'V2'  # One speed for testing\n",
    "\n",
    "# Call the function to get training and testing data\n",
    "training_data, testing_data = get_CSIs(directory, train_speeds, test_speed)\n",
    "\n",
    "# Separate training and testing data\n",
    "train_CSIs, train_labels = training_data\n",
    "test_CSIs, test_labels = testing_data\n"
   ]
  },
  {
   "cell_type": "code",
   "execution_count": null,
   "metadata": {},
   "outputs": [],
   "source": [
    "train_CSIs=np.array(train_CSIs)\n",
    "train_labels=np.array(train_labels)\n",
    "print(\"Shape of Images:\",train_CSIs.shape)\n",
    "print(\"Shape of Labels:\",train_labels.shape)"
   ]
  }
 ],
 "metadata": {
  "accelerator": "GPU",
  "colab": {
   "gpuType": "T4",
   "machine_shape": "hm",
   "provenance": []
  },
  "kernelspec": {
   "display_name": "Python 3 (ipykernel)",
   "language": "python",
   "name": "python3"
  },
  "language_info": {
   "codemirror_mode": {
    "name": "ipython",
    "version": 3
   },
   "file_extension": ".py",
   "mimetype": "text/x-python",
   "name": "python",
   "nbconvert_exporter": "python",
   "pygments_lexer": "ipython3",
   "version": "3.9.12"
  }
 },
 "nbformat": 4,
 "nbformat_minor": 4
}
