{
 "cells": [
  {
   "cell_type": "code",
   "execution_count": 1,
   "metadata": {
    "id": "UuSba3jIMD0e"
   },
   "outputs": [
    {
     "name": "stderr",
     "output_type": "stream",
     "text": [
      "/shared/centos7/anaconda3/2022.05/lib/python3.9/site-packages/scipy/__init__.py:146: UserWarning: A NumPy version >=1.16.5 and <1.23.0 is required for this version of SciPy (detected version 1.23.5\n",
      "  warnings.warn(f\"A NumPy version >={np_minversion} and <{np_maxversion}\"\n"
     ]
    }
   ],
   "source": [
    "import numpy as np\n",
    "import pandas as pd\n",
    "import csv\n",
    "import pickle\n",
    "import math\n",
    "import cmath\n",
    "import matplotlib.pyplot as plt\n",
    "import seaborn as sns\n",
    "import itertools\n",
    "from random import randint\n",
    "from sklearn.metrics import classification_report\n",
    "from sklearn.metrics import confusion_matrix\n",
    "from sklearn import preprocessing\n",
    "from sklearn.utils import shuffle\n",
    "from sklearn.model_selection import train_test_split\n",
    "import scipy as sp\n",
    "from os.path import dirname, join as pjoin\n",
    "import scipy.io as sio\n",
    "from matplotlib import mlab\n",
    "from tqdm import tqdm\n",
    "import time\n",
    "import pathlib\n",
    "import csv\n",
    "import os\n",
    "import warnings\n",
    "warnings.filterwarnings(\"ignore\")\n",
    "import glob"
   ]
  },
  {
   "cell_type": "code",
   "execution_count": 3,
   "metadata": {
    "colab": {
     "base_uri": "https://localhost:8080/"
    },
    "id": "jYxXOQKQNPyn",
    "outputId": "a607fc50-7af8-4a82-cd05-1673ee9ef9dc"
   },
   "outputs": [
    {
     "name": "stdout",
     "output_type": "stream",
     "text": [
      "/home/zandi.r/Data\n"
     ]
    }
   ],
   "source": [
    "print(os.getcwd())\n",
    "directory='/home/zandi.r/Data/8 Class/'"
   ]
  },
  {
   "cell_type": "code",
   "execution_count": 4,
   "metadata": {},
   "outputs": [],
   "source": [
    "def plot_confusion_matrix(cm, target_names, title='Confusion matrix', cmap=None, normalize=True):\n",
    "\n",
    "    if cmap is None:\n",
    "        cmap = plt.get_cmap('Blues')\n",
    "\n",
    "    plt.figure(figsize=(6,6))\n",
    "    plt.imshow(cm, interpolation='nearest', cmap=cmap)\n",
    "    #plt.title(title)\n",
    "    #plt.colorbar()\n",
    "\n",
    "    if target_names is not None:\n",
    "        tick_marks = np.arange(len(target_names))\n",
    "        plt.xticks(tick_marks, target_names, rotation=20)\n",
    "        plt.yticks(tick_marks, target_names)\n",
    "\n",
    "    if normalize:\n",
    "        cm = cm.astype('float') / cm.sum(axis=1)[:, np.newaxis]\n",
    "\n",
    "\n",
    "\n",
    "    thresh = cm.max() / 1.5 if normalize else cm.max() / 2\n",
    "    for i, j in itertools.product(range(cm.shape[0]), range(cm.shape[1])):\n",
    "        if normalize:\n",
    "            plt.text(j, i, \"{:0.2f}\".format(cm[i, j]*100),\n",
    "                     horizontalalignment=\"center\",\n",
    "                     color=\"white\" if cm[i, j] > thresh else \"black\")\n",
    "        else:\n",
    "            plt.text(j, i, \"{:,}\".format(cm[i, j]*100),\n",
    "                     horizontalalignment=\"center\",\n",
    "                     color=\"white\" if cm[i, j] > thresh else \"black\")\n",
    "\n",
    "\n",
    "    plt.tight_layout()\n",
    "    plt.ylim(len(target_names)-0.5, -0.5)\n",
    "    plt.ylabel('True labels')\n",
    "    plt.xlabel('Predicted labels')\n",
    "    plt.savefig(title + '.png', dpi=500, bbox_inches = 'tight')\n",
    "    plt.show()\n"
   ]
  },
  {
   "cell_type": "code",
   "execution_count": 5,
   "metadata": {},
   "outputs": [],
   "source": [
    "def get_CSIs(directory, train_speeds, test_speed):\n",
    "    CSIs = []\n",
    "    Labels = []\n",
    "    CSIs_test = []\n",
    "    Labels_test = []\n",
    "\n",
    "    for labels in os.listdir(directory):  # Main Directory where each class label is present as a folder name.\n",
    "        label_path = os.path.join(directory, labels)\n",
    "        if os.path.isdir(label_path):\n",
    "            if labels == 'Arc':  # Folder contains ARCXZ CSIs get the '0' class label.\n",
    "                label = 0\n",
    "            elif labels == 'Elbow':\n",
    "                label = 1\n",
    "            elif labels == 'Rectangle':\n",
    "                label = 2\n",
    "            elif labels == 'Silence':\n",
    "                label = 3  \n",
    "            elif labels == 'SLFW':\n",
    "                label = 4\n",
    "            elif labels == 'SLRL':\n",
    "                label = 5\n",
    "            elif labels == 'SLUD':\n",
    "                label = 6\n",
    "            elif labels == 'Triangle':\n",
    "                label = 7\n",
    "\n",
    "            # Get a list of speeds in the label directory\n",
    "            speed_folders = os.listdir(label_path)\n",
    "            for speed_folder in speed_folders:\n",
    "                if speed_folder in train_speeds:\n",
    "                    data_type = 'train'\n",
    "                elif speed_folder == test_speed:\n",
    "                    data_type = 'test'\n",
    "                else:\n",
    "                    continue\n",
    "\n",
    "                speed_path = os.path.join(label_path, speed_folder)\n",
    "                for csi_file in os.listdir(speed_path):  # Extracting the file name of the csi from Speed folder\n",
    "                    if csi_file == '.DS_Store':\n",
    "                        continue  # Skip processing this file\n",
    "                    def read_file(filename):\n",
    "                        with open(filename, 'rb') as FID:\n",
    "                            mp = pickle.Unpickler(FID)\n",
    "                            data = mp.load()\n",
    "                        return data\n",
    "\n",
    "                    csi = read_file(os.path.join(speed_path, csi_file))  # Reading the csi\n",
    "                    ar1 = np.asmatrix(np.abs(csi[0]['complex_csi']))\n",
    "                    arr1 = np.delete(ar1, [0, 1, 2, 3, 4, 115, 116, 117, 118, 119, 120, 122, 123, 124, 125, 126, 127, 128, 129, 130, 131, 253, 254, 255], 1)\n",
    "                    arr1 = np.pad(arr1, ((0, 0), (64, 64)), mode='constant')\n",
    "\n",
    "                    ar2 = np.asmatrix(np.abs(csi[1]['complex_csi']))\n",
    "                    arr2 = np.delete(ar2, [0, 1, 2, 3, 4, 115, 116, 117, 118, 119, 120, 122, 123, 124, 125, 126, 127, 128, 129, 130, 131, 253, 254, 255], 1)\n",
    "                    arr2 = np.pad(arr2, ((0, 0), (64, 64)), mode='constant')\n",
    "\n",
    "                    arr = np.concatenate((arr1, arr2), axis=1)\n",
    "\n",
    "                    # Append to the dataset based on data_type\n",
    "                    if data_type == 'train':\n",
    "                        # Append to training data\n",
    "                        CSIs.append(arr)\n",
    "                        Labels.append(label)\n",
    "                    elif data_type == 'test':\n",
    "                        # Append to testing data\n",
    "                        CSIs_test.append(arr)\n",
    "                        Labels_test.append(label)\n",
    "\n",
    "    return shuffle(CSIs, Labels, random_state=817328462), shuffle(CSIs_test, Labels_test, random_state=817328462)\n",
    "\n",
    "# def get_classlabel(class_code):\n",
    "#     labels = {0: 'ARC', 1: 'DIAG_XY', 2: 'Elbow', 3: 'Rectangle', 4: 'Silence', 5: 'SLFW', 6: 'SLRL', 7: 'SLUD'}\n",
    "#     return labels[class_code]"
   ]
  },
  {
   "cell_type": "code",
   "execution_count": 6,
   "metadata": {},
   "outputs": [],
   "source": [
    "# Define train and test speeds\n",
    "train_speeds = ['V1','V3']  # Two speeds for training\n",
    "test_speed = 'V2'  # One speed for testing\n",
    "\n",
    "# Call the function to get training and testing data\n",
    "training_data, testing_data = get_CSIs(directory, train_speeds, test_speed)\n",
    "\n",
    "# Separate training and testing data\n",
    "train_CSIs, train_labels = training_data\n",
    "test_CSIs, test_labels = testing_data\n"
   ]
  },
  {
   "cell_type": "code",
   "execution_count": 7,
   "metadata": {},
   "outputs": [
    {
     "name": "stdout",
     "output_type": "stream",
     "text": [
      "Shape of Images: (368, 360, 720)\n",
      "Shape of Labels: (368,)\n"
     ]
    }
   ],
   "source": [
    "train_CSIs=np.array(train_CSIs)\n",
    "train_labels=np.array(train_labels)\n",
    "print(\"Shape of Images:\",train_CSIs.shape)\n",
    "print(\"Shape of Labels:\",train_labels.shape)"
   ]
  },
  {
   "cell_type": "code",
   "execution_count": 8,
   "metadata": {},
   "outputs": [
    {
     "name": "stdout",
     "output_type": "stream",
     "text": [
      "Shape of Images: (184, 360, 720)\n",
      "Shape of Labels: (184,)\n"
     ]
    }
   ],
   "source": [
    "Test=np.array(test_CSIs)\n",
    "Test_labels=np.array(test_labels)\n",
    "print(\"Shape of Images:\",Test.shape)\n",
    "print(\"Shape of Labels:\",Test_labels.shape)"
   ]
  },
  {
   "cell_type": "code",
   "execution_count": 9,
   "metadata": {},
   "outputs": [
    {
     "data": {
      "text/plain": [
       "(360, 720)"
      ]
     },
     "execution_count": 9,
     "metadata": {},
     "output_type": "execute_result"
    }
   ],
   "source": [
    "train_CSIs[0].shape"
   ]
  },
  {
   "cell_type": "code",
   "execution_count": 10,
   "metadata": {},
   "outputs": [
    {
     "data": {
      "text/plain": [
       "23"
      ]
     },
     "execution_count": 10,
     "metadata": {},
     "output_type": "execute_result"
    }
   ],
   "source": [
    "np.count_nonzero(Test_labels==0)"
   ]
  },
  {
   "cell_type": "code",
   "execution_count": 11,
   "metadata": {
    "id": "ghtChLGdaj5b"
   },
   "outputs": [],
   "source": [
    "Train, Validation, Train_labels, Validation_labels = train_test_split(train_CSIs,train_labels, test_size=0.2, shuffle=True)"
   ]
  },
  {
   "cell_type": "code",
   "execution_count": 12,
   "metadata": {
    "id": "ggokRe2DcYBV"
   },
   "outputs": [],
   "source": [
    "def split_data(data, labels):\n",
    "    # Split the data into two matrices of size 400x400 each\n",
    "    data1 = data[:, :, :360]\n",
    "    data2 = data[:, :, 360:720]\n",
    "\n",
    "    return data1, data2, labels\n",
    "\n",
    "Train1, Train2, Train_labels = split_data(Train, Train_labels)\n",
    "Validation1, Validation2, Validation_labels = split_data(Validation, Validation_labels)\n",
    "Test1, Test2, Test_labels = split_data(Test, Test_labels)"
   ]
  },
  {
   "cell_type": "code",
   "execution_count": 13,
   "metadata": {},
   "outputs": [
    {
     "data": {
      "text/plain": [
       "(294, 360, 360)"
      ]
     },
     "execution_count": 13,
     "metadata": {},
     "output_type": "execute_result"
    }
   ],
   "source": [
    "Train1.shape"
   ]
  },
  {
   "cell_type": "code",
   "execution_count": 14,
   "metadata": {
    "id": "BQLmjUAmd_xK"
   },
   "outputs": [],
   "source": [
    "import torch\n",
    "import torch.nn as nn\n",
    "import torch.optim as optim\n",
    "from torch.utils.data import DataLoader, Dataset\n",
    "import torch.nn.functional as F"
   ]
  },
  {
   "cell_type": "code",
   "execution_count": 15,
   "metadata": {
    "id": "o2HdDUJVrUm9"
   },
   "outputs": [],
   "source": [
    "# Custom Dataset\n",
    "class CustomDataset(Dataset):\n",
    "    def __init__(self, images1, images2, labels, patch_size):\n",
    "        self.images1 = images1\n",
    "        self.images2 = images2\n",
    "        self.labels = labels\n",
    "        self.patch_size = patch_size\n",
    "\n",
    "    def __len__(self):\n",
    "        return len(self.labels)\n",
    "    \n",
    "    def __getitem__(self, idx):\n",
    "        image1 = self.images1[idx]\n",
    "        image2 = self.images2[idx]\n",
    "        label = self.labels[idx]\n",
    "        image1 = np.expand_dims(image1, axis=0)  # Add channel dimension\n",
    "        image2 = np.expand_dims(image2, axis=0)  # Add channel dimension\n",
    "        patches1 = self.patchify(image1, self.patch_size)\n",
    "        patches2 = self.patchify(image2, self.patch_size)\n",
    "        #print(f'patches {patches1.shape}')\n",
    "        return patches1, patches2, label\n",
    "\n",
    "\n",
    "    def patchify(self, image, patch_size):\n",
    "        Channel, height, width = image.shape  # Get height and width of the image\n",
    "        patches = []\n",
    "        for i in range(0, height, patch_size):\n",
    "            for j in range(0, width, patch_size):\n",
    "                patch = image[:, i:i+patch_size, j:j+patch_size]\n",
    "                patches.append(patch)\n",
    "        return np.concatenate(patches, axis=0)\n",
    "\n",
    "\n",
    "\n",
    "class VisionTransformer(nn.Module):\n",
    "    def __init__(self, embed_dim, hidden_dim, num_heads, num_layers, patch_size, num_channels, num_classes, dropout):\n",
    "        super(VisionTransformer, self).__init__()\n",
    "        self.embedding = nn.Linear(patch_size * patch_size * num_channels, embed_dim)\n",
    "        self.transformer_encoder = nn.TransformerEncoder(\n",
    "            nn.TransformerEncoderLayer(d_model=embed_dim, nhead=num_heads),\n",
    "            num_layers=num_layers\n",
    "        )\n",
    "        self.fc = nn.Linear(embed_dim, num_classes)\n",
    "        self.dropout = nn.Dropout(dropout)\n",
    "\n",
    "    def forward(self, x):\n",
    "        batch_size, num_patches, _, _ = x.size()\n",
    "        x = x.view(batch_size * num_patches, -1)\n",
    "        x = self.embedding(x)\n",
    "        x = x.view(batch_size, num_patches, -1)\n",
    "        x = x.permute(1, 0, 2)\n",
    "        x = self.transformer_encoder(x)\n",
    "        x = x.permute(1, 0, 2)\n",
    "        x = x.mean(dim=1)\n",
    "        x = self.dropout(x)\n",
    "        x = self.fc(x)\n",
    "        return x\n",
    "\n"
   ]
  },
  {
   "cell_type": "code",
   "execution_count": 16,
   "metadata": {},
   "outputs": [],
   "source": [
    "# Define the vision transformers and other parameters\n",
    "embed_dim1 = 256\n",
    "embed_dim2 = 256\n",
    "embed_dim=256\n",
    "hidden_dim = 256 * 3\n",
    "num_channels = 1\n",
    "batch_size = 32\n",
    "num_heads = 4\n",
    "num_layers = 6\n",
    "patch_size = 45\n",
    "num_classes =8\n",
    "dropout = 0.4\n",
    "epochs=100\n",
    "learning_rate=0.0001\n",
    "weight_decay=0.00002"
   ]
  },
  {
   "cell_type": "code",
   "execution_count": 17,
   "metadata": {
    "colab": {
     "base_uri": "https://localhost:8080/",
     "height": 419
    },
    "id": "Q7qnWlearUm-",
    "outputId": "2951dac5-5984-4df1-b68d-79fa128f844d"
   },
   "outputs": [
    {
     "name": "stdout",
     "output_type": "stream",
     "text": [
      "True\n"
     ]
    },
    {
     "name": "stderr",
     "output_type": "stream",
     "text": [
      "Epoch 1 Training: 100%|████████████████████████| 19/19 [00:01<00:00, 13.19it/s, Loss=2.15, Acc=14.3]\n"
     ]
    },
    {
     "name": "stdout",
     "output_type": "stream",
     "text": [
      "Epoch 1, Train Loss: 2.1451 | Train Accuracy: 14.29%\n",
      "Validation Loss: 2.0753 | Validation Accuracy: 27.03%\n",
      "________________________________________________________________________\n"
     ]
    },
    {
     "name": "stderr",
     "output_type": "stream",
     "text": [
      "Epoch 2 Training: 100%|████████████████████████| 19/19 [00:00<00:00, 25.65it/s, Loss=2.14, Acc=13.9]\n"
     ]
    },
    {
     "name": "stdout",
     "output_type": "stream",
     "text": [
      "Epoch 2, Train Loss: 2.1447 | Train Accuracy: 13.95%\n",
      "Validation Loss: 2.0382 | Validation Accuracy: 25.68%\n",
      "________________________________________________________________________\n"
     ]
    },
    {
     "name": "stderr",
     "output_type": "stream",
     "text": [
      "Epoch 3 Training: 100%|████████████████████████| 19/19 [00:00<00:00, 24.94it/s, Loss=1.94, Acc=24.5]\n"
     ]
    },
    {
     "name": "stdout",
     "output_type": "stream",
     "text": [
      "Epoch 3, Train Loss: 1.9369 | Train Accuracy: 24.49%\n",
      "Validation Loss: 1.8859 | Validation Accuracy: 28.38%\n",
      "________________________________________________________________________\n"
     ]
    },
    {
     "name": "stderr",
     "output_type": "stream",
     "text": [
      "Epoch 4 Training: 100%|████████████████████████| 19/19 [00:09<00:00,  1.98it/s, Loss=1.83, Acc=31.3]\n"
     ]
    },
    {
     "name": "stdout",
     "output_type": "stream",
     "text": [
      "Epoch 4, Train Loss: 1.8304 | Train Accuracy: 31.29%\n",
      "Validation Loss: 1.6937 | Validation Accuracy: 47.30%\n",
      "________________________________________________________________________\n"
     ]
    },
    {
     "name": "stderr",
     "output_type": "stream",
     "text": [
      "Epoch 5 Training: 100%|████████████████████████| 19/19 [00:16<00:00,  1.16it/s, Loss=1.47, Acc=43.9]\n"
     ]
    },
    {
     "name": "stdout",
     "output_type": "stream",
     "text": [
      "Epoch 5, Train Loss: 1.4701 | Train Accuracy: 43.88%\n",
      "Validation Loss: 1.5022 | Validation Accuracy: 36.49%\n",
      "________________________________________________________________________\n"
     ]
    },
    {
     "name": "stderr",
     "output_type": "stream",
     "text": [
      "Epoch 6 Training: 100%|██████████████████████████| 19/19 [00:10<00:00,  1.80it/s, Loss=1.29, Acc=48]\n"
     ]
    },
    {
     "name": "stdout",
     "output_type": "stream",
     "text": [
      "Epoch 6, Train Loss: 1.2893 | Train Accuracy: 47.96%\n",
      "Validation Loss: 1.1539 | Validation Accuracy: 52.70%\n",
      "________________________________________________________________________\n"
     ]
    },
    {
     "name": "stderr",
     "output_type": "stream",
     "text": [
      "Epoch 7 Training: 100%|███████████████████████| 19/19 [00:16<00:00,  1.16it/s, Loss=0.995, Acc=61.9]\n"
     ]
    },
    {
     "name": "stdout",
     "output_type": "stream",
     "text": [
      "Epoch 7, Train Loss: 0.9949 | Train Accuracy: 61.90%\n",
      "Validation Loss: 0.9668 | Validation Accuracy: 60.81%\n",
      "________________________________________________________________________\n"
     ]
    },
    {
     "name": "stderr",
     "output_type": "stream",
     "text": [
      "Epoch 8 Training: 100%|███████████████████████| 19/19 [00:16<00:00,  1.17it/s, Loss=0.781, Acc=72.8]\n"
     ]
    },
    {
     "name": "stdout",
     "output_type": "stream",
     "text": [
      "Epoch 8, Train Loss: 0.7807 | Train Accuracy: 72.79%\n",
      "Validation Loss: 1.2826 | Validation Accuracy: 51.35%\n",
      "________________________________________________________________________\n"
     ]
    },
    {
     "name": "stderr",
     "output_type": "stream",
     "text": [
      "Epoch 9 Training: 100%|███████████████████████| 19/19 [00:02<00:00,  6.52it/s, Loss=0.876, Acc=64.3]\n"
     ]
    },
    {
     "name": "stdout",
     "output_type": "stream",
     "text": [
      "Epoch 9, Train Loss: 0.8761 | Train Accuracy: 64.29%\n",
      "Validation Loss: 0.8824 | Validation Accuracy: 54.05%\n",
      "________________________________________________________________________\n"
     ]
    },
    {
     "name": "stderr",
     "output_type": "stream",
     "text": [
      "Epoch 10 Training: 100%|██████████████████████| 19/19 [00:15<00:00,  1.19it/s, Loss=0.758, Acc=70.1]\n"
     ]
    },
    {
     "name": "stdout",
     "output_type": "stream",
     "text": [
      "Epoch 10, Train Loss: 0.7577 | Train Accuracy: 70.07%\n",
      "Validation Loss: 0.6941 | Validation Accuracy: 72.97%\n",
      "________________________________________________________________________\n"
     ]
    },
    {
     "name": "stderr",
     "output_type": "stream",
     "text": [
      "Epoch 11 Training: 100%|██████████████████████| 19/19 [00:16<00:00,  1.17it/s, Loss=0.605, Acc=77.9]\n"
     ]
    },
    {
     "name": "stdout",
     "output_type": "stream",
     "text": [
      "Epoch 11, Train Loss: 0.6049 | Train Accuracy: 77.89%\n",
      "Validation Loss: 0.5742 | Validation Accuracy: 89.19%\n",
      "________________________________________________________________________\n"
     ]
    },
    {
     "name": "stderr",
     "output_type": "stream",
     "text": [
      "Epoch 12 Training: 100%|██████████████████████| 19/19 [00:16<00:00,  1.18it/s, Loss=0.429, Acc=86.4]\n"
     ]
    },
    {
     "name": "stdout",
     "output_type": "stream",
     "text": [
      "Epoch 12, Train Loss: 0.4291 | Train Accuracy: 86.39%\n",
      "Validation Loss: 0.4846 | Validation Accuracy: 85.14%\n",
      "________________________________________________________________________\n"
     ]
    },
    {
     "name": "stderr",
     "output_type": "stream",
     "text": [
      "Epoch 13 Training: 100%|██████████████████████| 19/19 [00:16<00:00,  1.18it/s, Loss=0.386, Acc=88.4]\n"
     ]
    },
    {
     "name": "stdout",
     "output_type": "stream",
     "text": [
      "Epoch 13, Train Loss: 0.3860 | Train Accuracy: 88.44%\n",
      "Validation Loss: 0.4843 | Validation Accuracy: 85.14%\n",
      "________________________________________________________________________\n"
     ]
    },
    {
     "name": "stderr",
     "output_type": "stream",
     "text": [
      "Epoch 14 Training: 100%|██████████████████████| 19/19 [00:16<00:00,  1.17it/s, Loss=0.453, Acc=83.7]\n"
     ]
    },
    {
     "name": "stdout",
     "output_type": "stream",
     "text": [
      "Epoch 14, Train Loss: 0.4531 | Train Accuracy: 83.67%\n",
      "Validation Loss: 0.5839 | Validation Accuracy: 81.08%\n",
      "________________________________________________________________________\n"
     ]
    },
    {
     "name": "stderr",
     "output_type": "stream",
     "text": [
      "Epoch 15 Training: 100%|███████████████████████| 19/19 [00:01<00:00, 12.37it/s, Loss=0.49, Acc=82.3]\n"
     ]
    },
    {
     "name": "stdout",
     "output_type": "stream",
     "text": [
      "Epoch 15, Train Loss: 0.4898 | Train Accuracy: 82.31%\n",
      "Validation Loss: 1.4392 | Validation Accuracy: 45.95%\n",
      "________________________________________________________________________\n"
     ]
    },
    {
     "name": "stderr",
     "output_type": "stream",
     "text": [
      "Epoch 16 Training: 100%|██████████████████████| 19/19 [00:00<00:00, 24.20it/s, Loss=0.787, Acc=71.4]\n"
     ]
    },
    {
     "name": "stdout",
     "output_type": "stream",
     "text": [
      "Epoch 16, Train Loss: 0.7867 | Train Accuracy: 71.43%\n",
      "Validation Loss: 0.4520 | Validation Accuracy: 82.43%\n",
      "________________________________________________________________________\n"
     ]
    },
    {
     "name": "stderr",
     "output_type": "stream",
     "text": [
      "Epoch 17 Training: 100%|███████████████████████| 19/19 [00:00<00:00, 24.71it/s, Loss=0.47, Acc=84.7]\n"
     ]
    },
    {
     "name": "stdout",
     "output_type": "stream",
     "text": [
      "Epoch 17, Train Loss: 0.4700 | Train Accuracy: 84.69%\n",
      "Validation Loss: 0.7569 | Validation Accuracy: 67.57%\n",
      "________________________________________________________________________\n"
     ]
    },
    {
     "name": "stderr",
     "output_type": "stream",
     "text": [
      "Epoch 18 Training: 100%|██████████████████████| 19/19 [00:00<00:00, 25.18it/s, Loss=0.488, Acc=83.3]\n"
     ]
    },
    {
     "name": "stdout",
     "output_type": "stream",
     "text": [
      "Epoch 18, Train Loss: 0.4884 | Train Accuracy: 83.33%\n",
      "Validation Loss: 0.4010 | Validation Accuracy: 89.19%\n",
      "________________________________________________________________________\n"
     ]
    },
    {
     "name": "stderr",
     "output_type": "stream",
     "text": [
      "Epoch 19 Training: 100%|██████████████████████| 19/19 [00:00<00:00, 21.88it/s, Loss=0.235, Acc=93.9]\n"
     ]
    },
    {
     "name": "stdout",
     "output_type": "stream",
     "text": [
      "Epoch 19, Train Loss: 0.2348 | Train Accuracy: 93.88%\n",
      "Validation Loss: 0.5305 | Validation Accuracy: 87.84%\n",
      "________________________________________________________________________\n"
     ]
    },
    {
     "name": "stderr",
     "output_type": "stream",
     "text": [
      "Epoch 20 Training: 100%|██████████████████████| 19/19 [00:00<00:00, 25.21it/s, Loss=0.282, Acc=91.8]\n"
     ]
    },
    {
     "name": "stdout",
     "output_type": "stream",
     "text": [
      "Epoch 20, Train Loss: 0.2824 | Train Accuracy: 91.84%\n",
      "Validation Loss: 0.2680 | Validation Accuracy: 93.24%\n",
      "________________________________________________________________________\n"
     ]
    },
    {
     "name": "stderr",
     "output_type": "stream",
     "text": [
      "Epoch 21 Training: 100%|██████████████████████| 19/19 [00:00<00:00, 24.91it/s, Loss=0.235, Acc=92.5]\n"
     ]
    },
    {
     "name": "stdout",
     "output_type": "stream",
     "text": [
      "Epoch 21, Train Loss: 0.2346 | Train Accuracy: 92.52%\n",
      "Validation Loss: 0.2487 | Validation Accuracy: 90.54%\n",
      "________________________________________________________________________\n"
     ]
    },
    {
     "name": "stderr",
     "output_type": "stream",
     "text": [
      "Epoch 22 Training: 100%|██████████████████████| 19/19 [00:00<00:00, 24.50it/s, Loss=0.285, Acc=90.5]\n"
     ]
    },
    {
     "name": "stdout",
     "output_type": "stream",
     "text": [
      "Epoch 22, Train Loss: 0.2849 | Train Accuracy: 90.48%\n",
      "Validation Loss: 0.3743 | Validation Accuracy: 90.54%\n",
      "________________________________________________________________________\n"
     ]
    },
    {
     "name": "stderr",
     "output_type": "stream",
     "text": [
      "Epoch 23 Training: 100%|██████████████████████| 19/19 [00:00<00:00, 25.26it/s, Loss=0.228, Acc=92.2]\n"
     ]
    },
    {
     "name": "stdout",
     "output_type": "stream",
     "text": [
      "Epoch 23, Train Loss: 0.2282 | Train Accuracy: 92.18%\n",
      "Validation Loss: 0.3131 | Validation Accuracy: 89.19%\n",
      "________________________________________________________________________\n"
     ]
    },
    {
     "name": "stderr",
     "output_type": "stream",
     "text": [
      "Epoch 24 Training: 100%|██████████████████████| 19/19 [00:00<00:00, 25.01it/s, Loss=0.223, Acc=93.5]\n"
     ]
    },
    {
     "name": "stdout",
     "output_type": "stream",
     "text": [
      "Epoch 24, Train Loss: 0.2227 | Train Accuracy: 93.54%\n",
      "Validation Loss: 0.1931 | Validation Accuracy: 94.59%\n",
      "________________________________________________________________________\n"
     ]
    },
    {
     "name": "stderr",
     "output_type": "stream",
     "text": [
      "Epoch 25 Training: 100%|██████████████████████| 19/19 [00:00<00:00, 25.43it/s, Loss=0.182, Acc=95.6]\n"
     ]
    },
    {
     "name": "stdout",
     "output_type": "stream",
     "text": [
      "Epoch 25, Train Loss: 0.1818 | Train Accuracy: 95.58%\n",
      "Validation Loss: 0.3114 | Validation Accuracy: 93.24%\n",
      "________________________________________________________________________\n"
     ]
    },
    {
     "name": "stderr",
     "output_type": "stream",
     "text": [
      "Epoch 26 Training: 100%|██████████████████████| 19/19 [00:00<00:00, 25.30it/s, Loss=0.171, Acc=94.2]\n"
     ]
    },
    {
     "name": "stdout",
     "output_type": "stream",
     "text": [
      "Epoch 26, Train Loss: 0.1714 | Train Accuracy: 94.22%\n",
      "Validation Loss: 0.3267 | Validation Accuracy: 87.84%\n",
      "________________________________________________________________________\n"
     ]
    },
    {
     "name": "stderr",
     "output_type": "stream",
     "text": [
      "Epoch 27 Training: 100%|██████████████████████| 19/19 [00:00<00:00, 24.53it/s, Loss=0.208, Acc=94.6]\n"
     ]
    },
    {
     "name": "stdout",
     "output_type": "stream",
     "text": [
      "Epoch 27, Train Loss: 0.2079 | Train Accuracy: 94.56%\n",
      "Validation Loss: 0.2247 | Validation Accuracy: 93.24%\n",
      "________________________________________________________________________\n"
     ]
    },
    {
     "name": "stderr",
     "output_type": "stream",
     "text": [
      "Epoch 28 Training: 100%|██████████████████████| 19/19 [00:00<00:00, 24.14it/s, Loss=0.165, Acc=95.6]\n"
     ]
    },
    {
     "name": "stdout",
     "output_type": "stream",
     "text": [
      "Epoch 28, Train Loss: 0.1650 | Train Accuracy: 95.58%\n",
      "Validation Loss: 0.1329 | Validation Accuracy: 97.30%\n",
      "________________________________________________________________________\n"
     ]
    },
    {
     "name": "stderr",
     "output_type": "stream",
     "text": [
      "Epoch 29 Training: 100%|█████████████████████| 19/19 [00:00<00:00, 25.11it/s, Loss=0.0947, Acc=98.3]\n"
     ]
    },
    {
     "name": "stdout",
     "output_type": "stream",
     "text": [
      "Epoch 29, Train Loss: 0.0947 | Train Accuracy: 98.30%\n",
      "Validation Loss: 0.1197 | Validation Accuracy: 97.30%\n",
      "________________________________________________________________________\n"
     ]
    },
    {
     "name": "stderr",
     "output_type": "stream",
     "text": [
      "Epoch 30 Training: 100%|██████████████████████| 19/19 [00:00<00:00, 25.22it/s, Loss=0.093, Acc=98.3]\n"
     ]
    },
    {
     "name": "stdout",
     "output_type": "stream",
     "text": [
      "Epoch 30, Train Loss: 0.0930 | Train Accuracy: 98.30%\n",
      "Validation Loss: 0.1798 | Validation Accuracy: 91.89%\n",
      "________________________________________________________________________\n"
     ]
    },
    {
     "name": "stderr",
     "output_type": "stream",
     "text": [
      "Epoch 31 Training: 100%|██████████████████████| 19/19 [00:00<00:00, 25.31it/s, Loss=0.368, Acc=88.1]\n"
     ]
    },
    {
     "name": "stdout",
     "output_type": "stream",
     "text": [
      "Epoch 31, Train Loss: 0.3676 | Train Accuracy: 88.10%\n",
      "Validation Loss: 0.3579 | Validation Accuracy: 86.49%\n",
      "________________________________________________________________________\n"
     ]
    },
    {
     "name": "stderr",
     "output_type": "stream",
     "text": [
      "Epoch 32 Training: 100%|██████████████████████| 19/19 [00:00<00:00, 23.23it/s, Loss=0.211, Acc=94.6]\n"
     ]
    },
    {
     "name": "stdout",
     "output_type": "stream",
     "text": [
      "Epoch 32, Train Loss: 0.2108 | Train Accuracy: 94.56%\n",
      "Validation Loss: 0.1545 | Validation Accuracy: 94.59%\n",
      "________________________________________________________________________\n"
     ]
    },
    {
     "name": "stderr",
     "output_type": "stream",
     "text": [
      "Epoch 33 Training: 100%|██████████████████████| 19/19 [00:04<00:00,  4.27it/s, Loss=0.104, Acc=98.3]\n"
     ]
    },
    {
     "name": "stdout",
     "output_type": "stream",
     "text": [
      "Epoch 33, Train Loss: 0.1037 | Train Accuracy: 98.30%\n",
      "Validation Loss: 0.1908 | Validation Accuracy: 95.95%\n",
      "________________________________________________________________________\n"
     ]
    },
    {
     "name": "stderr",
     "output_type": "stream",
     "text": [
      "Epoch 34 Training: 100%|█████████████████████| 19/19 [00:16<00:00,  1.16it/s, Loss=0.0922, Acc=98.6]\n"
     ]
    },
    {
     "name": "stdout",
     "output_type": "stream",
     "text": [
      "Epoch 34, Train Loss: 0.0922 | Train Accuracy: 98.64%\n",
      "Validation Loss: 0.1813 | Validation Accuracy: 95.95%\n",
      "________________________________________________________________________\n"
     ]
    },
    {
     "name": "stderr",
     "output_type": "stream",
     "text": [
      "Epoch 35 Training: 100%|█████████████████████| 19/19 [00:16<00:00,  1.18it/s, Loss=0.0485, Acc=99.7]\n"
     ]
    },
    {
     "name": "stdout",
     "output_type": "stream",
     "text": [
      "Epoch 35, Train Loss: 0.0485 | Train Accuracy: 99.66%\n",
      "Validation Loss: 0.1553 | Validation Accuracy: 97.30%\n",
      "________________________________________________________________________\n"
     ]
    },
    {
     "name": "stderr",
     "output_type": "stream",
     "text": [
      "Epoch 36 Training: 100%|█████████████████████| 19/19 [00:16<00:00,  1.17it/s, Loss=0.0389, Acc=99.7]\n"
     ]
    },
    {
     "name": "stdout",
     "output_type": "stream",
     "text": [
      "Epoch 36, Train Loss: 0.0389 | Train Accuracy: 99.66%\n",
      "Validation Loss: 0.1407 | Validation Accuracy: 97.30%\n",
      "________________________________________________________________________\n"
     ]
    },
    {
     "name": "stderr",
     "output_type": "stream",
     "text": [
      "Epoch 37 Training: 100%|█████████████████████| 19/19 [00:16<00:00,  1.18it/s, Loss=0.0397, Acc=99.3]\n"
     ]
    },
    {
     "name": "stdout",
     "output_type": "stream",
     "text": [
      "Epoch 37, Train Loss: 0.0397 | Train Accuracy: 99.32%\n",
      "Validation Loss: 0.1622 | Validation Accuracy: 95.95%\n",
      "________________________________________________________________________\n"
     ]
    },
    {
     "name": "stderr",
     "output_type": "stream",
     "text": [
      "Epoch 38 Training: 100%|█████████████████████| 19/19 [00:16<00:00,  1.18it/s, Loss=0.0466, Acc=99.3]\n"
     ]
    },
    {
     "name": "stdout",
     "output_type": "stream",
     "text": [
      "Epoch 38, Train Loss: 0.0466 | Train Accuracy: 99.32%\n",
      "Validation Loss: 0.1618 | Validation Accuracy: 97.30%\n",
      "________________________________________________________________________\n"
     ]
    },
    {
     "name": "stderr",
     "output_type": "stream",
     "text": [
      "Epoch 39 Training: 100%|█████████████████████| 19/19 [00:16<00:00,  1.18it/s, Loss=0.0341, Acc=99.7]\n"
     ]
    },
    {
     "name": "stdout",
     "output_type": "stream",
     "text": [
      "Epoch 39, Train Loss: 0.0341 | Train Accuracy: 99.66%\n",
      "Validation Loss: 0.2193 | Validation Accuracy: 93.24%\n",
      "________________________________________________________________________\n"
     ]
    },
    {
     "name": "stderr",
     "output_type": "stream",
     "text": [
      "Epoch 40 Training: 100%|█████████████████████| 19/19 [00:10<00:00,  1.80it/s, Loss=0.0249, Acc=99.7]\n"
     ]
    },
    {
     "name": "stdout",
     "output_type": "stream",
     "text": [
      "Epoch 40, Train Loss: 0.0249 | Train Accuracy: 99.66%\n",
      "Validation Loss: 0.2100 | Validation Accuracy: 95.95%\n",
      "________________________________________________________________________\n"
     ]
    }
   ],
   "source": [
    "# Convert data to PyTorch tensors\n",
    "Train1 = torch.tensor(Train1, dtype=torch.float32)\n",
    "Train2 = torch.tensor(Train2, dtype=torch.float32)\n",
    "Train_labels = torch.tensor(Train_labels, dtype=torch.long)\n",
    "\n",
    "Test1 = torch.tensor(Test1, dtype=torch.float32)\n",
    "Test2 = torch.tensor(Test2, dtype=torch.float32)\n",
    "Test_labels = torch.tensor(Test_labels, dtype=torch.long)\n",
    "\n",
    "Validation1 = torch.tensor(Validation1, dtype=torch.float32)\n",
    "Validation2 = torch.tensor(Validation2, dtype=torch.float32)\n",
    "Validation_labels = torch.tensor(Validation_labels, dtype=torch.long)\n",
    "\n",
    "# Create custom datasets\n",
    "train_dataset = CustomDataset(Train1, Train2, Train_labels, patch_size)\n",
    "test_dataset = CustomDataset(Test1, Test2, Test_labels, patch_size)\n",
    "val_dataset = CustomDataset(Validation1, Validation2, Validation_labels, patch_size)\n",
    "\n",
    "# Create data loaders\n",
    "train_loader = DataLoader(train_dataset, batch_size=batch_size, shuffle=True)\n",
    "test_loader = DataLoader(test_dataset, batch_size=batch_size, shuffle=False)\n",
    "val_loader = DataLoader(val_dataset, batch_size=batch_size, shuffle=False)\n",
    "\n",
    "class CombinedModel(nn.Module):\n",
    "    def __init__(self, vision_transformer1, vision_transformer2, num_classes):\n",
    "        super(CombinedModel, self).__init__()\n",
    "        self.vision_transformer1 = vision_transformer1\n",
    "        self.vision_transformer2 = vision_transformer2\n",
    "        self.flatten = nn.Flatten()  # Add a flatten layer\n",
    "        \n",
    "        # Adjust the input size of the fc layer based on the output size after flattening\n",
    "        self.fc = nn.Linear(2*num_classes , num_classes)\n",
    "        \n",
    "    def forward(self, patches1, patches2):\n",
    "        features1 = self.vision_transformer1(patches1)\n",
    "        features2 = self.vision_transformer2(patches2)\n",
    "        # Apply the flatten layer to the output of the Vision Transformers\n",
    "        features1 = self.flatten(features1)\n",
    "        features2 = self.flatten(features2)\n",
    "\n",
    "        # Concatenate the two tensors together\n",
    "        combined_features = torch.cat((features1, features2), dim=1)\n",
    "        output = self.fc(combined_features)\n",
    "        return output\n",
    "\n",
    "vision_transformer1 = VisionTransformer(embed_dim1, hidden_dim, num_heads, num_layers, patch_size, num_channels,num_classes, dropout)\n",
    "vision_transformer2 = VisionTransformer(embed_dim2, hidden_dim, num_heads, num_layers, patch_size, num_channels, num_classes, dropout)\n",
    "\n",
    "combined_model = CombinedModel(vision_transformer1, vision_transformer2, num_classes)\n",
    "\n",
    "# Model and Training\n",
    "device = torch.device(\"cuda\" if torch.cuda.is_available() else \"cpu\")\n",
    "print(torch.cuda.is_available())\n",
    "combined_model.to(device)\n",
    "class_weights = torch.tensor([1, 1, 1, 1, 1, 1, 1, 1], dtype=torch.float32).to(device)\n",
    "loss_fn = nn.CrossEntropyLoss(weight=class_weights)\n",
    "optimizer = optim.Adam(combined_model.parameters(), lr=learning_rate, weight_decay=weight_decay)\n",
    "\n",
    "\n",
    "# Training loop with early stopping\n",
    "early_stopping_patience = 15\n",
    "best_val_loss = float('inf')\n",
    "wait = 0\n",
    "\n",
    "for epoch in range(epochs):\n",
    "    combined_model.train()\n",
    "    train_loss = 0.0\n",
    "    correct = 0\n",
    "    total = 0\n",
    "    train_bar = tqdm(train_loader, desc=f\"Epoch {epoch+1} Training\", ncols=100)\n",
    "    \n",
    "    for patches1, patches2, labels in train_bar:\n",
    "        patches1, patches2, labels = patches1.to(device), patches2.to(device), labels.to(device)\n",
    "        optimizer.zero_grad()\n",
    "        outputs = combined_model(patches1, patches2)\n",
    "        loss = loss_fn(outputs, labels)\n",
    "        loss.backward()\n",
    "        optimizer.step()\n",
    "        train_loss += loss.item()\n",
    "        \n",
    "        _, predicted = outputs.max(1)\n",
    "        total += labels.size(0)\n",
    "        correct += predicted.eq(labels).sum().item()\n",
    "        \n",
    "        train_bar.set_postfix({\"Loss\": train_loss/len(train_bar), \"Acc\": 100.0*correct/total})\n",
    "    \n",
    "    train_loss /= len(train_loader)\n",
    "    train_acc = 100.0 * correct / total\n",
    "    print(f\"Epoch {epoch+1}, Train Loss: {train_loss:.4f} | Train Accuracy: {train_acc:.2f}%\")\n",
    "    \n",
    "    # Validation\n",
    "    combined_model.eval()\n",
    "    val_loss = 0.0\n",
    "    correct = 0\n",
    "    total = 0\n",
    "    with torch.no_grad():\n",
    "        for patches1, patches2, labels in val_loader:\n",
    "            patches1, patches2, labels = patches1.to(device), patches2.to(device), labels.to(device)\n",
    "            outputs = combined_model(patches1, patches2)\n",
    "            val_loss += loss_fn(outputs, labels).item()\n",
    "            \n",
    "            _, predicted = outputs.max(1)\n",
    "            total += labels.size(0)\n",
    "            correct += predicted.eq(labels).sum().item()\n",
    "    \n",
    "    val_loss /= len(val_loader)\n",
    "    val_acc = 100.0 * correct / total\n",
    "    print(f\"Validation Loss: {val_loss:.4f} | Validation Accuracy: {val_acc:.2f}%\")\n",
    "    print('________________________________________________________________________')\n",
    "    \n",
    "    # Check for early stopping\n",
    "    if val_loss < best_val_loss:\n",
    "        best_val_loss = val_loss\n",
    "        wait = 0\n",
    "    else:\n",
    "        wait += 1\n",
    "        if wait >= early_stopping_patience:\n",
    "            print(\"Early stopping triggered. Training stopped.\")\n",
    "            break"
   ]
  },
  {
   "cell_type": "code",
   "execution_count": 81,
   "metadata": {},
   "outputs": [
    {
     "name": "stdout",
     "output_type": "stream",
     "text": [
      "Test Loss: 0.5208 | Test Accuracy: 90.76%\n"
     ]
    },
    {
     "data": {
      "image/png": "[encoded data removed]",
      "text/plain": [
       "<Figure size 432x432 with 1 Axes>"
      ]
     },
     "metadata": {
      "needs_background": "light"
     },
     "output_type": "display_data"
    },
    {
     "name": "stdout",
     "output_type": "stream",
     "text": [
      "              precision    recall  f1-score   support\n",
      "\n",
      "         Arc     0.9200    1.0000    0.9583        23\n",
      "       Elbow     1.0000    0.8696    0.9302        23\n",
      "   Rectangle     0.7778    0.9130    0.8400        23\n",
      "     Silence     0.9200    1.0000    0.9583        23\n",
      "        SLFW     1.0000    1.0000    1.0000        23\n",
      "        SLRL     0.9500    0.8261    0.8837        23\n",
      "        SLUD     0.8519    1.0000    0.9200        23\n",
      "    Triangle     0.8824    0.6522    0.7500        23\n",
      "\n",
      "    accuracy                         0.9076       184\n",
      "   macro avg     0.9127    0.9076    0.9051       184\n",
      "weighted avg     0.9127    0.9076    0.9051       184\n",
      "\n"
     ]
    }
   ],
   "source": [
    "# Testing\n",
    "combined_model.eval()\n",
    "test_loss = 0.0\n",
    "correct, total = 0, 0\n",
    "predictions = []\n",
    "ground_truths = []\n",
    "\n",
    "with torch.no_grad():\n",
    "    for patches1, patches2, labels in test_loader:\n",
    "        patches1, patches2, labels = patches1.to(device), patches2.to(device), labels.to(device)\n",
    "        outputs = combined_model(patches1, patches2)\n",
    "        test_loss += loss_fn(outputs, labels).item()\n",
    "        _, predicted = outputs.max(1)\n",
    "        total += labels.size(0)\n",
    "        correct += predicted.eq(labels).sum().item()\n",
    "        predictions.extend(predicted.tolist())\n",
    "        ground_truths.extend(labels.tolist())\n",
    " \n",
    "test_loss /= len(test_loader)\n",
    "test_acc = 100.0 * correct / total\n",
    "print(f\"Test Loss: {test_loss:.4f} | Test Accuracy: {test_acc:.2f}%\")\n",
    "labels = ['Arc', 'Elbow', 'Rectangle', 'Silence','SLFW', 'SLRL', 'SLUD', 'Triangle']\n",
    "cfm = confusion_matrix(ground_truths, predictions)\n",
    "cfm6=cfm"
   ]
  }
 ],
 "metadata": {
  "accelerator": "GPU",
  "colab": {
   "gpuType": "T4",
   "machine_shape": "hm",
   "provenance": []
  },
  "kernelspec": {
   "display_name": "Python 3 (ipykernel)",
   "language": "python",
   "name": "python3"
  },
  "language_info": {
   "codemirror_mode": {
    "name": "ipython",
    "version": 3
   },
   "file_extension": ".py",
   "mimetype": "text/x-python",
   "name": "python",
   "nbconvert_exporter": "python",
   "pygments_lexer": "ipython3",
   "version": "3.9.12"
  }
 },
 "nbformat": 4,
 "nbformat_minor": 4
}
